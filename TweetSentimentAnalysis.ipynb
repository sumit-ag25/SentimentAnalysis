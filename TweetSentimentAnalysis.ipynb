{
 "cells": [
  {
   "cell_type": "markdown",
   "id": "bab5172d-67c5-4896-9047-26286fe07741",
   "metadata": {},
   "source": [
    "## Assignment - Sentiment Analysis Using Naive Bayes "
   ]
  },
  {
   "cell_type": "code",
   "execution_count": 1,
   "id": "4611b686-f3c6-4f21-a23f-9051f329c920",
   "metadata": {},
   "outputs": [
    {
     "name": "stderr",
     "output_type": "stream",
     "text": [
      "[nltk_data] Downloading package stopwords to\n",
      "[nltk_data]     C:\\Users\\User\\AppData\\Roaming\\nltk_data...\n",
      "[nltk_data]   Package stopwords is already up-to-date!\n"
     ]
    },
    {
     "data": {
      "text/plain": [
       "True"
      ]
     },
     "execution_count": 1,
     "metadata": {},
     "output_type": "execute_result"
    }
   ],
   "source": [
    "#Import necessary libraries\n",
    "import pandas as pd\n",
    "import re\n",
    "from sklearn.model_selection import train_test_split\n",
    "from sklearn.feature_extraction.text import CountVectorizer, TfidfVectorizer, TfidfTransformer\n",
    "from sklearn.feature_extraction.text import ENGLISH_STOP_WORDS\n",
    "from sklearn.pipeline import Pipeline\n",
    "from sklearn.naive_bayes import MultinomialNB\n",
    "from sklearn.model_selection import GridSearchCV\n",
    "from nltk.corpus import stopwords\n",
    "import nltk\n",
    "from sklearn.metrics import confusion_matrix, accuracy_score, f1_score, classification_report\n",
    "import seaborn as sns\n",
    "import matplotlib.pyplot as plt\n",
    "\n",
    "# Download NLTK stop words \n",
    "nltk.download(\"stopwords\")"
   ]
  },
  {
   "cell_type": "markdown",
   "id": "1b32e315-4ba4-45b3-b3e3-ab4eb46afde9",
   "metadata": {},
   "source": [
    "__1. Read dataset and perform Text processing for the tweets ( Remove Stop words, and special characters and convert the text to lowercase)__"
   ]
  },
  {
   "cell_type": "code",
   "execution_count": 2,
   "id": "6f6266ef-c7ca-4846-9afa-66641b7b4a66",
   "metadata": {},
   "outputs": [
    {
     "data": {
      "text/plain": [
       "0    menyrbie philgahan chrisitv httpstcoifzfanpa h...\n",
       "1    advice talk neighbours family exchange phone n...\n",
       "2    coronavirus australia woolworths give elderly ...\n",
       "3    food stock one empty please dont panic enough ...\n",
       "4    ready go supermarket covid outbreak im paranoi...\n",
       "Name: ProcessedTweet, dtype: object"
      ]
     },
     "execution_count": 2,
     "metadata": {},
     "output_type": "execute_result"
    }
   ],
   "source": [
    "# Load the datasets\n",
    "train_data_path = \"Corona_NLP_train.csv\"\n",
    "test_data_path = \"Corona_NLP_test.csv\"\n",
    "\n",
    "train_data = pd.read_csv(train_data_path, encoding=\"latin-1\")\n",
    "test_data = pd.read_csv(test_data_path, encoding=\"latin-1\")\n",
    "\n",
    "# Preprocessing Function\n",
    "def preprocess_text(text):\n",
    "    stop_words = set(stopwords.words(\"english\"))\n",
    "    # Lowercase the text\n",
    "    text = text.lower()\n",
    "    # Remove special characters and numbers\n",
    "    text = re.sub(r\"[^a-z\\s]\", \"\", text)\n",
    "    # Remove stop words\n",
    "    words = text.split()\n",
    "    filtered_text = \" \".join([word for word in words if word not in stop_words])\n",
    "    return filtered_text\n",
    "\n",
    "# Preprocess the tweets on train dataset and print few.\n",
    "train_data[\"ProcessedTweet\"] = train_data[\"OriginalTweet\"].apply(preprocess_text)\n",
    "\n",
    "train_data[\"ProcessedTweet\"].head()"
   ]
  },
  {
   "cell_type": "markdown",
   "id": "0c80e460-406c-4f48-8cb5-717b0a50c5e6",
   "metadata": {},
   "source": [
    "__2. Using the train_test_split function of Sklearn, Split the kaggle's train dataset further into train, and test dataset__"
   ]
  },
  {
   "cell_type": "code",
   "execution_count": 3,
   "id": "c2f3601a-be36-4c19-93a2-77f104c639f2",
   "metadata": {},
   "outputs": [],
   "source": [
    "# Splitting the train data into train and test sets\n",
    "X = train_data[\"ProcessedTweet\"]\n",
    "y = train_data[\"Sentiment\"]\n",
    "X_train, X_test, y_train, y_test = train_test_split(X, y, test_size=0.2, random_state=42)"
   ]
  },
  {
   "cell_type": "markdown",
   "id": "df68f943-6f02-4209-b958-0b92ccf4699c",
   "metadata": {},
   "source": [
    "__3. Use BoW and TF-IDF based feature extraction approaches on the \"text\" field of the dataset. You can use existing library functions__"
   ]
  },
  {
   "cell_type": "code",
   "execution_count": 4,
   "id": "9eb3c18d-7cc8-4de1-bc6a-356298e3035f",
   "metadata": {},
   "outputs": [],
   "source": [
    "# Feature Extraction: BoW and TF-IDF\n",
    "# Bag of Words\n",
    "bow_vectorizer = CountVectorizer()\n",
    "X_train_bow = bow_vectorizer.fit_transform(X_train)\n",
    "X_test_bow = bow_vectorizer.transform(X_test)\n",
    "\n",
    "# TF-IDF\n",
    "tfidf_vectorizer = TfidfVectorizer()\n",
    "X_train_tfidf = tfidf_vectorizer.fit_transform(X_train)\n",
    "X_test_tfidf = tfidf_vectorizer.transform(X_test)"
   ]
  },
  {
   "cell_type": "markdown",
   "id": "3a4bfd7e-5f11-4d37-96af-2e5e3cc50189",
   "metadata": {},
   "source": [
    "__4. Create model building pipeline and define parameters for GridSearch (You might Refer to the code below)__"
   ]
  },
  {
   "cell_type": "code",
   "execution_count": 5,
   "id": "b59d2bc8-a452-48d6-a4d0-4d2e82caed10",
   "metadata": {},
   "outputs": [
    {
     "name": "stdout",
     "output_type": "stream",
     "text": [
      "Best Parameters: {'clf__alpha': 0.01, 'tfidf__norm': 'l2', 'tfidf__use_idf': False, 'vect__ngram_range': (1, 1)}\n",
      "Best Score: 0.4454062262718299\n"
     ]
    }
   ],
   "source": [
    "# Model Pipeline and GridSearch\n",
    "text_clf = Pipeline([\n",
    "    (\"vect\", CountVectorizer()),\n",
    "    (\"tfidf\", TfidfTransformer()),\n",
    "    (\"clf\", MultinomialNB())\n",
    "])\n",
    "\n",
    "tuned_parameters = {\n",
    "    \"vect__ngram_range\": [(1, 1), (1, 2), (2, 2)],\n",
    "    \"tfidf__use_idf\": [True, False],\n",
    "    \"tfidf__norm\": [\"l1\", \"l2\"],\n",
    "    \"clf__alpha\": [1, 0.1, 0.01]\n",
    "}\n",
    "\n",
    "grid_search = GridSearchCV(text_clf, tuned_parameters, cv=5, scoring=\"accuracy\", n_jobs=-1)\n",
    "grid_search.fit(X_train, y_train)\n",
    "\n",
    "# Display the best parameters and accuracy\n",
    "print(\"Best Parameters:\", grid_search.best_params_)\n",
    "print(\"Best Score:\", grid_search.best_score_)"
   ]
  },
  {
   "cell_type": "markdown",
   "id": "89e5c514-4be8-4649-966f-535d76b9db44",
   "metadata": {},
   "source": [
    "__5. Perform classification (using GridSearch)__"
   ]
  },
  {
   "cell_type": "code",
   "execution_count": 6,
   "id": "f0855de6-fc26-410a-bd59-fb508b86fff9",
   "metadata": {},
   "outputs": [
    {
     "name": "stdout",
     "output_type": "stream",
     "text": [
      "\n",
      "Classification Report:\n",
      "                    precision    recall  f1-score   support\n",
      "\n",
      "Extremely Negative       0.52      0.34      0.41      1056\n",
      "Extremely Positive       0.56      0.36      0.43      1330\n",
      "          Negative       0.40      0.48      0.43      2006\n",
      "           Neutral       0.67      0.35      0.46      1553\n",
      "          Positive       0.40      0.61      0.48      2287\n",
      "\n",
      "          accuracy                           0.45      8232\n",
      "         macro avg       0.51      0.43      0.44      8232\n",
      "      weighted avg       0.49      0.45      0.45      8232\n",
      "\n"
     ]
    }
   ],
   "source": [
    "# Use the best model to predict on the test data\n",
    "best_model = grid_search.best_estimator_\n",
    "y_pred = best_model.predict(X_test)\n",
    "\n",
    "# Classification Report\n",
    "print(\"\\nClassification Report:\")\n",
    "print(classification_report(y_test, y_pred))\n"
   ]
  },
  {
   "cell_type": "markdown",
   "id": "5f514f98-85c5-437d-baf3-ed6f730ec324",
   "metadata": {},
   "source": [
    "__6. Print the confusion matrix, accuracy, and F1 score on the test dataset__"
   ]
  },
  {
   "cell_type": "code",
   "execution_count": 7,
   "id": "bbeb9e4f-aa45-44cf-b4fb-4f71147fa0e8",
   "metadata": {},
   "outputs": [
    {
     "data": {
      "image/png": "[encoded data removed]",
      "text/plain": [
       "<Figure size 1000x700 with 2 Axes>"
      ]
     },
     "metadata": {},
     "output_type": "display_data"
    },
    {
     "name": "stdout",
     "output_type": "stream",
     "text": [
      "Accuracy: 0.4516520894071914\n",
      "F1 Score: 0.4486192074577366\n"
     ]
    }
   ],
   "source": [
    "# Evaluate the model\n",
    "# Confusion Matrix\n",
    "conf_matrix = confusion_matrix(y_test, y_pred)\n",
    "plt.figure(figsize=(10, 7))\n",
    "sns.heatmap(conf_matrix, annot=True, fmt='d', cmap='Blues', xticklabels=best_model.classes_, yticklabels=best_model.classes_)\n",
    "plt.title(\"Confusion Matrix\")\n",
    "plt.xlabel(\"Predicted\")\n",
    "plt.ylabel(\"Actual\")\n",
    "plt.show()\n",
    "\n",
    "# Accuracy Score\n",
    "accuracy = accuracy_score(y_test, y_pred)\n",
    "print(\"Accuracy:\", accuracy)\n",
    "\n",
    "# F1 Score\n",
    "f1 = f1_score(y_test, y_pred, average=\"weighted\")  # Weighted average for multi-class\n",
    "print(\"F1 Score:\", f1)"
   ]
  },
  {
   "cell_type": "markdown",
   "id": "72499257-12f5-433b-bc50-5b683a9a40bd",
   "metadata": {},
   "source": [
    "__7. Interpret your results in terms of Business Domain Knowledge__"
   ]
  },
  {
   "cell_type": "markdown",
   "id": "99e04f2b-be93-4b0e-ad35-518d99f9876d",
   "metadata": {},
   "source": [
    "1. General Observations  \n",
    "\n",
    "Accuracy (45.2%):  \n",
    "The model correctly predicts the sentiment of tweets in less than half of the cases. For a public health context, this is a low performance that might hinder precise sentiment understanding.  \n",
    "\n",
    "\n",
    "Weighted F1 Score (44.9%):  \n",
    "A balance between precision and recall suggests the model performs moderately well but struggles to generalize across all sentiment classes.  \n",
    "\n",
    "Macro Avg F1 Score (44%):  \n",
    "Indicates inconsistent performance across different sentiment classes, particularly for extreme sentiments.  \n",
    "\n",
    "\n",
    "2. Class-Specific Observations\n",
    "\n",
    "Extremely Negative Sentiment  \n",
    "Precision (52%), Recall (34%), F1 Score (41%):  \n",
    "The model captures only 34% of tweets with extremely negative sentiment, which are crucial for identifying public outrage, fear, or dissatisfaction.  \n",
    "Misclassifying these tweets might result in delayed responses to significant crises (e.g., complaints about health services or misinformation).  \n",
    "\n",
    "Extremely Positive Sentiment  \n",
    "Precision (56%), Recall (36%), F1 Score (43%):  \n",
    "The model has difficulty detecting highly positive sentiments, capturing only 36% of such tweets. This could mean missing important appreciation for COVID-19 measures or vaccine rollouts.  \n",
    "Low recall might cause the model to under-represent public gratitude or support for specific actions. \n",
    "\n",
    "Negative Sentiment  \n",
    "Precision (40%), Recall (48%), F1 Score (43%):  \n",
    "Negative tweets are captured slightly better than extremely negative ones, but precision remains low.  \n",
    "This can lead to inaccurate representation of issues like vaccine hesitancy, distrust in government policies, or dissatisfaction with public health messaging.  \n",
    "\n",
    "Neutral Sentiment  \n",
    "Precision (67%), Recall (35%), F1 Score (46%):  \n",
    "While the model is better at avoiding false positives for neutral tweets, it misses 65% of actual neutral tweets.  \n",
    "This could impact the identification of informational or non-opinionated content (e.g., news updates or announcements).  \n",
    "\n",
    "Positive Sentiment  \n",
    "Precision (40%), Recall (61%), F1 Score (48%):  \n",
    "The model captures a significant proportion of positive tweets but sacrifices precision, meaning many tweets are misclassified as positive.  \n",
    "Overestimating positivity might mislead stakeholders into believing there's greater public approval for certain measures.  \n",
    "\n",
    "3. Implications for COVID-19 Business and Public Health Use Cases\n",
    "\n",
    "Monitoring Public Opinion:  \n",
    "Challenges:  \n",
    "Low recall for extreme sentiments may lead to underestimating strong opinions (e.g., frustration with lockdowns, appreciation for healthcare workers).  \n",
    "Misclassification of neutral tweets could reduce the reliability of sentiment trends for general COVID-19 discussions.\n",
    "\n",
    "Opportunities:    \n",
    "The model can still provide rough sentiment trends, such as identifying broader positive or negative sentiment over time. \n",
    "\n",
    "Healthcare and Vaccine Campaigns:  \n",
    "Challenges:  \n",
    "Poor performance on negative and extremely negative tweets might hinder detection of vaccine hesitancy or misinformation.  \n",
    "Missed extremely positive tweets could underrepresent public approval of vaccine rollouts or healthcare initiatives.  \n",
    "\n",
    "Opportunities:  \n",
    "The model can be used to highlight potential trends (e.g., increasing negative sentiment during new restrictions) and inform communication strategies.  \n",
    "\n",
    "Crisis Response:  \n",
    "Challenges:  \n",
    "Failing to identify extreme sentiments could result in delayed responses to critical situations (e.g., panic about COVID-19 waves or healthcare shortages).  \n",
    "\n",
    "Opportunities:  \n",
    "By filtering tweets into broader categories (e.g., positive vs. negative), the model may assist in flagging content for manual review during crises.  \n",
    "\n",
    "4. Recommendations for Improvement\n",
    "To better align with the business and public health objectives:\n",
    "\n",
    "Balance the Dataset:\n",
    "Handle class imbalance by oversampling minority classes (e.g., Extremely Negative) or undersampling majority classes.\n",
    "\n",
    "Advanced Preprocessing:\n",
    "Handle domain-specific nuances like:\n",
    "Negation detection (e.g., “not happy” vs. “happy”).\n",
    "COVID-19 keywords, hashtags, and emojis (e.g., #StaySafe, 😷, 💉).\n",
    "Use domain-specific stop words or sentiment lexicons.\n",
    "\n",
    "Algorithmic Improvement:\n",
    "Consider advanced models like Random Forests, SVM, or transformer-based models (e.g., BERT or DistilBERT) to capture contextual information.\n",
    "\n",
    "Domain-Specific Features:\n",
    "Incorporate features like hashtags, mentions, or tweet metadata (e.g., retweet count).\n",
    "\n",
    "5. Action Plan  \n",
    "\n",
    "Use the current model cautiously for broad sentiment trends.\n",
    "Perform manual review for critical classes like Extremely Negative and Extremely Positive tweets.\n",
    "Plan for iterative model improvement to address key weaknesses and enhance utility for public health decisions."
   ]
  }
 ],
 "metadata": {
  "kernelspec": {
   "display_name": "Python 3 (ipykernel)",
   "language": "python",
   "name": "python3"
  },
  "language_info": {
   "codemirror_mode": {
    "name": "ipython",
    "version": 3
   },
   "file_extension": ".py",
   "mimetype": "text/x-python",
   "name": "python",
   "nbconvert_exporter": "python",
   "pygments_lexer": "ipython3",
   "version": "3.11.7"
  }
 },
 "nbformat": 4,
 "nbformat_minor": 5
}
